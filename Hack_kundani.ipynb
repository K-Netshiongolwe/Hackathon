{
  "nbformat": 4,
  "nbformat_minor": 0,
  "metadata": {
    "colab": {
      "name": "Hack_kundani.ipynb",
      "provenance": [],
      "collapsed_sections": []
    },
    "kernelspec": {
      "name": "python3",
      "display_name": "Python 3"
    }
  },
  "cells": [
    {
      "cell_type": "code",
      "metadata": {
        "id": "tuSbKVWMr4GC"
      },
      "source": [
        "import pandas as pd\n",
        "import re\n",
        "import string\n",
        "import matplotlib.pyplot as plt\n",
        "\n",
        "from sklearn import feature_extraction\n",
        "from sklearn import  linear_model\n",
        "from sklearn import pipeline\n",
        "from sklearn import metrics\n",
        "\n",
        "from sklearn.model_selection import train_test_split\n",
        "from xgboost import XGBClassifier\n",
        "\n",
        "import time\n",
        "from sklearn.linear_model import LogisticRegression\n",
        "from sklearn.ensemble import RandomForestClassifier, AdaBoostClassifier\n",
        "from sklearn.metrics import f1_score, accuracy_score, precision_score, recall_score, classification_report, confusion_matrix\n",
        "from sklearn.model_selection import GridSearchCV\n",
        "from sklearn.naive_bayes import MultinomialNB\n",
        "\n",
        "\n",
        "from keras import Sequential\n",
        "from keras.utils import to_categorical\n",
        "from keras.callbacks import EarlyStopping\n",
        "from keras.preprocessing.text import Tokenizer\n",
        "from keras.preprocessing.sequence import pad_sequences\n",
        "from keras.layers import Embedding, SpatialDropout1D, LSTM, Dense, Dropout\n",
        "\n"
      ],
      "execution_count": 49,
      "outputs": []
    },
    {
      "cell_type": "markdown",
      "metadata": {
        "id": "FzLt4QlqVpEw"
      },
      "source": [
        "## Loding Datasets"
      ]
    },
    {
      "cell_type": "code",
      "metadata": {
        "id": "1U9ysoUesSbd"
      },
      "source": [
        "train = pd.read_csv('train_set.csv')\n"
      ],
      "execution_count": 50,
      "outputs": []
    },
    {
      "cell_type": "code",
      "metadata": {
        "id": "zg9k7EBjseHZ"
      },
      "source": [
        "test = pd.read_csv('test_set.csv')"
      ],
      "execution_count": 51,
      "outputs": []
    },
    {
      "cell_type": "markdown",
      "metadata": {
        "id": "kkq06WWZVtuU"
      },
      "source": [
        "## Creating a copy"
      ]
    },
    {
      "cell_type": "code",
      "metadata": {
        "colab": {
          "base_uri": "https://localhost:8080/",
          "height": 392
        },
        "id": "rAZseunpvoj9",
        "outputId": "601b3727-7875-4519-8398-4f5d2984b2c3"
      },
      "source": [
        "#create a copy of train data\n",
        "df = train.copy()\n",
        "df"
      ],
      "execution_count": 52,
      "outputs": [
        {
          "output_type": "execute_result",
          "data": {
            "text/html": [
              "<div>\n",
              "<style scoped>\n",
              "    .dataframe tbody tr th:only-of-type {\n",
              "        vertical-align: middle;\n",
              "    }\n",
              "\n",
              "    .dataframe tbody tr th {\n",
              "        vertical-align: top;\n",
              "    }\n",
              "\n",
              "    .dataframe thead th {\n",
              "        text-align: right;\n",
              "    }\n",
              "</style>\n",
              "<table border=\"1\" class=\"dataframe\">\n",
              "  <thead>\n",
              "    <tr style=\"text-align: right;\">\n",
              "      <th></th>\n",
              "      <th>lang_id</th>\n",
              "      <th>text</th>\n",
              "    </tr>\n",
              "  </thead>\n",
              "  <tbody>\n",
              "    <tr>\n",
              "      <th>0</th>\n",
              "      <td>xho</td>\n",
              "      <td>umgaqo-siseko wenza amalungiselelo kumaziko ax...</td>\n",
              "    </tr>\n",
              "    <tr>\n",
              "      <th>1</th>\n",
              "      <td>xho</td>\n",
              "      <td>i-dha iya kuba nobulumko bokubeka umsebenzi na...</td>\n",
              "    </tr>\n",
              "    <tr>\n",
              "      <th>2</th>\n",
              "      <td>eng</td>\n",
              "      <td>the province of kwazulu-natal department of tr...</td>\n",
              "    </tr>\n",
              "    <tr>\n",
              "      <th>3</th>\n",
              "      <td>nso</td>\n",
              "      <td>o netefatša gore o ba file dilo ka moka tše le...</td>\n",
              "    </tr>\n",
              "    <tr>\n",
              "      <th>4</th>\n",
              "      <td>ven</td>\n",
              "      <td>khomishini ya ndinganyiso ya mbeu yo ewa maana...</td>\n",
              "    </tr>\n",
              "    <tr>\n",
              "      <th>...</th>\n",
              "      <td>...</td>\n",
              "      <td>...</td>\n",
              "    </tr>\n",
              "    <tr>\n",
              "      <th>32995</th>\n",
              "      <td>tsn</td>\n",
              "      <td>popo ya dipolateforomo tse ke go tlisa boetele...</td>\n",
              "    </tr>\n",
              "    <tr>\n",
              "      <th>32996</th>\n",
              "      <td>sot</td>\n",
              "      <td>modise mosadi na o ntse o sa utlwe hore thaban...</td>\n",
              "    </tr>\n",
              "    <tr>\n",
              "      <th>32997</th>\n",
              "      <td>eng</td>\n",
              "      <td>closing date for the submission of completed t...</td>\n",
              "    </tr>\n",
              "    <tr>\n",
              "      <th>32998</th>\n",
              "      <td>xho</td>\n",
              "      <td>nawuphina umntu ofunyenwe enetyala phantsi kwa...</td>\n",
              "    </tr>\n",
              "    <tr>\n",
              "      <th>32999</th>\n",
              "      <td>sot</td>\n",
              "      <td>mafapha a mang le ona a lokela ho etsa ditlale...</td>\n",
              "    </tr>\n",
              "  </tbody>\n",
              "</table>\n",
              "<p>33000 rows × 2 columns</p>\n",
              "</div>"
            ],
            "text/plain": [
              "      lang_id                                               text\n",
              "0         xho  umgaqo-siseko wenza amalungiselelo kumaziko ax...\n",
              "1         xho  i-dha iya kuba nobulumko bokubeka umsebenzi na...\n",
              "2         eng  the province of kwazulu-natal department of tr...\n",
              "3         nso  o netefatša gore o ba file dilo ka moka tše le...\n",
              "4         ven  khomishini ya ndinganyiso ya mbeu yo ewa maana...\n",
              "...       ...                                                ...\n",
              "32995     tsn  popo ya dipolateforomo tse ke go tlisa boetele...\n",
              "32996     sot  modise mosadi na o ntse o sa utlwe hore thaban...\n",
              "32997     eng  closing date for the submission of completed t...\n",
              "32998     xho  nawuphina umntu ofunyenwe enetyala phantsi kwa...\n",
              "32999     sot  mafapha a mang le ona a lokela ho etsa ditlale...\n",
              "\n",
              "[33000 rows x 2 columns]"
            ]
          },
          "metadata": {
            "tags": []
          },
          "execution_count": 52
        }
      ]
    },
    {
      "cell_type": "code",
      "metadata": {
        "colab": {
          "base_uri": "https://localhost:8080/",
          "height": 392
        },
        "id": "ijsDBsnivivo",
        "outputId": "a99647b0-72d6-4a3c-8b4c-bfd509712b3d"
      },
      "source": [
        "#create a copy of test data\n",
        "df_test= test.copy()\n",
        "df_test"
      ],
      "execution_count": 53,
      "outputs": [
        {
          "output_type": "execute_result",
          "data": {
            "text/html": [
              "<div>\n",
              "<style scoped>\n",
              "    .dataframe tbody tr th:only-of-type {\n",
              "        vertical-align: middle;\n",
              "    }\n",
              "\n",
              "    .dataframe tbody tr th {\n",
              "        vertical-align: top;\n",
              "    }\n",
              "\n",
              "    .dataframe thead th {\n",
              "        text-align: right;\n",
              "    }\n",
              "</style>\n",
              "<table border=\"1\" class=\"dataframe\">\n",
              "  <thead>\n",
              "    <tr style=\"text-align: right;\">\n",
              "      <th></th>\n",
              "      <th>index</th>\n",
              "      <th>text</th>\n",
              "    </tr>\n",
              "  </thead>\n",
              "  <tbody>\n",
              "    <tr>\n",
              "      <th>0</th>\n",
              "      <td>1</td>\n",
              "      <td>Mmasepala, fa maemo a a kgethegileng a letlele...</td>\n",
              "    </tr>\n",
              "    <tr>\n",
              "      <th>1</th>\n",
              "      <td>2</td>\n",
              "      <td>Uzakwaziswa ngokufaneleko nakungafuneka eminye...</td>\n",
              "    </tr>\n",
              "    <tr>\n",
              "      <th>2</th>\n",
              "      <td>3</td>\n",
              "      <td>Tshivhumbeo tshi fana na ngano dza vhathu.</td>\n",
              "    </tr>\n",
              "    <tr>\n",
              "      <th>3</th>\n",
              "      <td>4</td>\n",
              "      <td>Kube inja nelikati betingevakala kutsi titsini...</td>\n",
              "    </tr>\n",
              "    <tr>\n",
              "      <th>4</th>\n",
              "      <td>5</td>\n",
              "      <td>Winste op buitelandse valuta.</td>\n",
              "    </tr>\n",
              "    <tr>\n",
              "      <th>...</th>\n",
              "      <td>...</td>\n",
              "      <td>...</td>\n",
              "    </tr>\n",
              "    <tr>\n",
              "      <th>5677</th>\n",
              "      <td>5678</td>\n",
              "      <td>You mark your ballot in private.</td>\n",
              "    </tr>\n",
              "    <tr>\n",
              "      <th>5678</th>\n",
              "      <td>5679</td>\n",
              "      <td>Ge o ka kgetha ka bowena go se šomiše Mofani k...</td>\n",
              "    </tr>\n",
              "    <tr>\n",
              "      <th>5679</th>\n",
              "      <td>5680</td>\n",
              "      <td>E Ka kopo etsa kgetho ya hao ka hloko, hobane ...</td>\n",
              "    </tr>\n",
              "    <tr>\n",
              "      <th>5680</th>\n",
              "      <td>5681</td>\n",
              "      <td>TB ke bokudi ba PMB, mme Morero o tla lefella ...</td>\n",
              "    </tr>\n",
              "    <tr>\n",
              "      <th>5681</th>\n",
              "      <td>5682</td>\n",
              "      <td>Vakatjhela iwebhusayidi yethu ku-www.</td>\n",
              "    </tr>\n",
              "  </tbody>\n",
              "</table>\n",
              "<p>5682 rows × 2 columns</p>\n",
              "</div>"
            ],
            "text/plain": [
              "      index                                               text\n",
              "0         1  Mmasepala, fa maemo a a kgethegileng a letlele...\n",
              "1         2  Uzakwaziswa ngokufaneleko nakungafuneka eminye...\n",
              "2         3         Tshivhumbeo tshi fana na ngano dza vhathu.\n",
              "3         4  Kube inja nelikati betingevakala kutsi titsini...\n",
              "4         5                      Winste op buitelandse valuta.\n",
              "...     ...                                                ...\n",
              "5677   5678                   You mark your ballot in private.\n",
              "5678   5679  Ge o ka kgetha ka bowena go se šomiše Mofani k...\n",
              "5679   5680  E Ka kopo etsa kgetho ya hao ka hloko, hobane ...\n",
              "5680   5681  TB ke bokudi ba PMB, mme Morero o tla lefella ...\n",
              "5681   5682              Vakatjhela iwebhusayidi yethu ku-www.\n",
              "\n",
              "[5682 rows x 2 columns]"
            ]
          },
          "metadata": {
            "tags": []
          },
          "execution_count": 53
        }
      ]
    },
    {
      "cell_type": "markdown",
      "metadata": {
        "id": "rRpzL4SxVzWl"
      },
      "source": [
        "## drop duplicates"
      ]
    },
    {
      "cell_type": "code",
      "metadata": {
        "id": "XN9nxiGHR-oE"
      },
      "source": [
        "#remove duplicates\n",
        "df = df.drop_duplicates(keep='first')\n"
      ],
      "execution_count": 54,
      "outputs": []
    },
    {
      "cell_type": "markdown",
      "metadata": {
        "id": "NjAxQ4rOV5fv"
      },
      "source": [
        "## Text Cleaning"
      ]
    },
    {
      "cell_type": "code",
      "metadata": {
        "colab": {
          "base_uri": "https://localhost:8080/"
        },
        "id": "zUOfdh1L7oqB",
        "outputId": "2649898f-1332-480f-de2d-8b35ad4028a5"
      },
      "source": [
        "# remove special characters, numbers, punctuations from train data\n",
        "df['text'] = df['text'].str.replace(\"[^a-zA-Z#]\", \" \")"
      ],
      "execution_count": 55,
      "outputs": [
        {
          "output_type": "stream",
          "text": [
            "/usr/local/lib/python3.6/dist-packages/ipykernel_launcher.py:2: SettingWithCopyWarning: \n",
            "A value is trying to be set on a copy of a slice from a DataFrame.\n",
            "Try using .loc[row_indexer,col_indexer] = value instead\n",
            "\n",
            "See the caveats in the documentation: https://pandas.pydata.org/pandas-docs/stable/user_guide/indexing.html#returning-a-view-versus-a-copy\n",
            "  \n"
          ],
          "name": "stderr"
        }
      ]
    },
    {
      "cell_type": "code",
      "metadata": {
        "id": "xoYXGPvr76aa"
      },
      "source": [
        "\n",
        "# remove special characters, numbers, punctuations from test data\n",
        "df_test['text'] = df_test['text'].str.replace(\"[^a-zA-Z#]\", \" \")"
      ],
      "execution_count": 56,
      "outputs": []
    },
    {
      "cell_type": "code",
      "metadata": {
        "colab": {
          "base_uri": "https://localhost:8080/"
        },
        "id": "zMabRf7o7upS",
        "outputId": "ade975f6-d4b0-4ad0-8949-720503610c9d"
      },
      "source": [
        "#removing short words from train data\n",
        "df['text'] = df['text'].apply(lambda x: ' '.join([word for word in x.split() if len(word)>3]))"
      ],
      "execution_count": 57,
      "outputs": [
        {
          "output_type": "stream",
          "text": [
            "/usr/local/lib/python3.6/dist-packages/ipykernel_launcher.py:2: SettingWithCopyWarning: \n",
            "A value is trying to be set on a copy of a slice from a DataFrame.\n",
            "Try using .loc[row_indexer,col_indexer] = value instead\n",
            "\n",
            "See the caveats in the documentation: https://pandas.pydata.org/pandas-docs/stable/user_guide/indexing.html#returning-a-view-versus-a-copy\n",
            "  \n"
          ],
          "name": "stderr"
        }
      ]
    },
    {
      "cell_type": "code",
      "metadata": {
        "id": "mY1MKD5-UKpT"
      },
      "source": [
        "\n",
        "\n",
        "#clean line that has english in text\n",
        "def text_cleaning(text):\n",
        "\n",
        "  text = re.sub(\"r[a-zA-Z]+\", \"\",text)\n",
        "\n",
        "\n",
        "  return text"
      ],
      "execution_count": 58,
      "outputs": []
    },
    {
      "cell_type": "code",
      "metadata": {
        "colab": {
          "base_uri": "https://localhost:8080/",
          "height": 291
        },
        "id": "mIIJjyOsU-90",
        "outputId": "5e252552-36ce-4618-9223-afd00817dfb6"
      },
      "source": [
        "# cleaning the text of train data\n",
        "df['text'] = df['text'].apply(lambda x: text_cleaning(x))\n",
        "\n",
        "# show the cleaned text \n",
        "df.head()\n"
      ],
      "execution_count": 59,
      "outputs": [
        {
          "output_type": "stream",
          "text": [
            "/usr/local/lib/python3.6/dist-packages/ipykernel_launcher.py:2: SettingWithCopyWarning: \n",
            "A value is trying to be set on a copy of a slice from a DataFrame.\n",
            "Try using .loc[row_indexer,col_indexer] = value instead\n",
            "\n",
            "See the caveats in the documentation: https://pandas.pydata.org/pandas-docs/stable/user_guide/indexing.html#returning-a-view-versus-a-copy\n",
            "  \n"
          ],
          "name": "stderr"
        },
        {
          "output_type": "execute_result",
          "data": {
            "text/html": [
              "<div>\n",
              "<style scoped>\n",
              "    .dataframe tbody tr th:only-of-type {\n",
              "        vertical-align: middle;\n",
              "    }\n",
              "\n",
              "    .dataframe tbody tr th {\n",
              "        vertical-align: top;\n",
              "    }\n",
              "\n",
              "    .dataframe thead th {\n",
              "        text-align: right;\n",
              "    }\n",
              "</style>\n",
              "<table border=\"1\" class=\"dataframe\">\n",
              "  <thead>\n",
              "    <tr style=\"text-align: right;\">\n",
              "      <th></th>\n",
              "      <th>lang_id</th>\n",
              "      <th>text</th>\n",
              "    </tr>\n",
              "  </thead>\n",
              "  <tbody>\n",
              "    <tr>\n",
              "      <th>0</th>\n",
              "      <td>xho</td>\n",
              "      <td>umgaqo siseko wenza amalungiselelo kumaziko ax...</td>\n",
              "    </tr>\n",
              "    <tr>\n",
              "      <th>1</th>\n",
              "      <td>xho</td>\n",
              "      <td>kuba nobulumko bokubeka umsebenzi naphi kwiseb...</td>\n",
              "    </tr>\n",
              "    <tr>\n",
              "      <th>2</th>\n",
              "      <td>eng</td>\n",
              "      <td>p kwazulu natal depa t invites tende f establi...</td>\n",
              "    </tr>\n",
              "    <tr>\n",
              "      <th>3</th>\n",
              "      <td>nso</td>\n",
              "      <td>netefat go file dilo moka dumelelanego mohlala...</td>\n",
              "    </tr>\n",
              "    <tr>\n",
              "      <th>4</th>\n",
              "      <td>ven</td>\n",
              "      <td>khomishini ndinganyiso mbeu maana mulayo khomi...</td>\n",
              "    </tr>\n",
              "  </tbody>\n",
              "</table>\n",
              "</div>"
            ],
            "text/plain": [
              "  lang_id                                               text\n",
              "0     xho  umgaqo siseko wenza amalungiselelo kumaziko ax...\n",
              "1     xho  kuba nobulumko bokubeka umsebenzi naphi kwiseb...\n",
              "2     eng  p kwazulu natal depa t invites tende f establi...\n",
              "3     nso  netefat go file dilo moka dumelelanego mohlala...\n",
              "4     ven  khomishini ndinganyiso mbeu maana mulayo khomi..."
            ]
          },
          "metadata": {
            "tags": []
          },
          "execution_count": 59
        }
      ]
    },
    {
      "cell_type": "code",
      "metadata": {
        "colab": {
          "base_uri": "https://localhost:8080/"
        },
        "id": "Pc7bmxPDXBvr",
        "outputId": "0ef7f7ba-7cd0-407c-fe09-c2b9163b88d2"
      },
      "source": [
        "#view data\n",
        "df['text'].unique()"
      ],
      "execution_count": 60,
      "outputs": [
        {
          "output_type": "execute_result",
          "data": {
            "text/plain": [
              "array(['umgaqo siseko wenza amalungiselelo kumaziko axhasa ulawulo lwesininzi kunye nokuthath inxaxheba kwabafazi ziquka phakathi kwezinye zazo ikomishoni yokulingana ngokwesini ikomishoni yamalungelo oluntu lomzantsi af',\n",
              "       'kuba nobulumko bokubeka umsebenzi naphi kwisebe ngokusekwe kwiimfuno zokusebenza zalo emva kokubonana nomsebenzi kunye okanye imanyano yakhe ukuba ulandulo lomntu onjalo alufanelekanga mayibize uncedo olufanelekileyo elungelweni layo',\n",
              "       'p kwazulu natal depa t invites tende f established cont expe b const const kwajolwayo tugela  pedest b near tugela fe du p will months',\n",
              "       ...,\n",
              "       'closing date submission completed tende august late submissions will conside submissions must enclosed sealed envelope add chief executive officer above add',\n",
              "       'nawuphina umntu ofunyenwe enetyala phantsi kwalo mthetho ujongene ujungene nesohlwayo sokudliwa imali okanye ukuvalelwa ixesha elingadluliyo kwiinyanga ezintandathu okanye kuzo zombini isohlwayo sokudliwa imali okanye ukuvalelwa',\n",
              "       'mafapha mang lokela etsa ditlaleho latela dipehelo nema me yohle lokela hlahlojwa komiti ditaba tikoloho kenyeleditseng motsamaisi kaka lefapha'],\n",
              "      dtype=object)"
            ]
          },
          "metadata": {
            "tags": []
          },
          "execution_count": 60
        }
      ]
    },
    {
      "cell_type": "markdown",
      "metadata": {
        "id": "1Jncg61oV71Q"
      },
      "source": [
        "##  Exploratory Data Analysis (EDA)"
      ]
    },
    {
      "cell_type": "markdown",
      "metadata": {
        "id": "Xk-bvVlYY1a2"
      },
      "source": [
        "## Model Building"
      ]
    },
    {
      "cell_type": "code",
      "metadata": {
        "id": "J7RzI_x--ZGk"
      },
      "source": [
        "# Seperate features and tagret variables\n",
        "y = train['lang_id']\n",
        "X = train['text']"
      ],
      "execution_count": 61,
      "outputs": []
    },
    {
      "cell_type": "code",
      "metadata": {
        "id": "ZdIPgzNzU04v"
      },
      "source": [
        "#apply vextorizer\n",
        "vectorizer = TfidfVectorizer(ngram_range=(1,2), min_df=2, stop_words=\"english\")\n",
        "X_vectorized = vectorizer.fit_transform(X)"
      ],
      "execution_count": 62,
      "outputs": []
    },
    {
      "cell_type": "code",
      "metadata": {
        "id": "m4fSlLdZ_5s7"
      },
      "source": [
        "# Split the train data to create validation dataset\n",
        "X_train,X_val,y_train,y_val = train_test_split(X_vectorized,y,test_size=.1,shuffle=True, stratify=y, random_state=11)"
      ],
      "execution_count": 63,
      "outputs": []
    },
    {
      "cell_type": "markdown",
      "metadata": {
        "id": "IPbvDvd1qj1X"
      },
      "source": [
        "## Logistic Regression"
      ]
    },
    {
      "cell_type": "code",
      "metadata": {
        "id": "6O3xp_IkzWMT"
      },
      "source": [
        "#first model"
      ],
      "execution_count": 64,
      "outputs": []
    },
    {
      "cell_type": "code",
      "metadata": {
        "id": "d8c5nYlEQfif",
        "colab": {
          "base_uri": "https://localhost:8080/",
          "height": 853
        },
        "outputId": "49e71a74-ddd8-4769-c6cc-7c34cc5fde5f"
      },
      "source": [
        "\n",
        "modelstart = time.time()\n",
        "logreg = LogisticRegression(C=1000, multi_class='ovr', solver='saga', random_state=42, max_iter=10)\n",
        "\n",
        "logreg.fit(X_train, y_train)\n",
        "\n",
        "y_pred = logreg.predict(X_val)\n",
        "\n",
        "logreg_f1 = round(f1_score(y_val, y_pred, average='weighted'),2)\n",
        "\n",
        "print('Accuracy %s' % accuracy_score(y_pred, y_val))\n",
        "print(\"Model Runtime: %0.2f seconds\"%((time.time() - modelstart)))\n",
        "report = classification_report(y_val, y_pred, output_dict=True)\n",
        "results = pd.DataFrame(report).transpose()\n",
        "results"
      ],
      "execution_count": 65,
      "outputs": [
        {
          "output_type": "stream",
          "text": [
            "/usr/local/lib/python3.6/dist-packages/sklearn/linear_model/_sag.py:330: ConvergenceWarning: The max_iter was reached which means the coef_ did not converge\n",
            "  \"the coef_ did not converge\", ConvergenceWarning)\n",
            "/usr/local/lib/python3.6/dist-packages/sklearn/linear_model/_sag.py:330: ConvergenceWarning: The max_iter was reached which means the coef_ did not converge\n",
            "  \"the coef_ did not converge\", ConvergenceWarning)\n",
            "/usr/local/lib/python3.6/dist-packages/sklearn/linear_model/_sag.py:330: ConvergenceWarning: The max_iter was reached which means the coef_ did not converge\n",
            "  \"the coef_ did not converge\", ConvergenceWarning)\n",
            "/usr/local/lib/python3.6/dist-packages/sklearn/linear_model/_sag.py:330: ConvergenceWarning: The max_iter was reached which means the coef_ did not converge\n",
            "  \"the coef_ did not converge\", ConvergenceWarning)\n",
            "/usr/local/lib/python3.6/dist-packages/sklearn/linear_model/_sag.py:330: ConvergenceWarning: The max_iter was reached which means the coef_ did not converge\n",
            "  \"the coef_ did not converge\", ConvergenceWarning)\n",
            "/usr/local/lib/python3.6/dist-packages/sklearn/linear_model/_sag.py:330: ConvergenceWarning: The max_iter was reached which means the coef_ did not converge\n",
            "  \"the coef_ did not converge\", ConvergenceWarning)\n",
            "/usr/local/lib/python3.6/dist-packages/sklearn/linear_model/_sag.py:330: ConvergenceWarning: The max_iter was reached which means the coef_ did not converge\n",
            "  \"the coef_ did not converge\", ConvergenceWarning)\n",
            "/usr/local/lib/python3.6/dist-packages/sklearn/linear_model/_sag.py:330: ConvergenceWarning: The max_iter was reached which means the coef_ did not converge\n",
            "  \"the coef_ did not converge\", ConvergenceWarning)\n",
            "/usr/local/lib/python3.6/dist-packages/sklearn/linear_model/_sag.py:330: ConvergenceWarning: The max_iter was reached which means the coef_ did not converge\n",
            "  \"the coef_ did not converge\", ConvergenceWarning)\n",
            "/usr/local/lib/python3.6/dist-packages/sklearn/linear_model/_sag.py:330: ConvergenceWarning: The max_iter was reached which means the coef_ did not converge\n",
            "  \"the coef_ did not converge\", ConvergenceWarning)\n"
          ],
          "name": "stderr"
        },
        {
          "output_type": "stream",
          "text": [
            "Accuracy 0.9960606060606061\n",
            "Model Runtime: 6.39 seconds\n"
          ],
          "name": "stdout"
        },
        {
          "output_type": "stream",
          "text": [
            "/usr/local/lib/python3.6/dist-packages/sklearn/linear_model/_sag.py:330: ConvergenceWarning: The max_iter was reached which means the coef_ did not converge\n",
            "  \"the coef_ did not converge\", ConvergenceWarning)\n"
          ],
          "name": "stderr"
        },
        {
          "output_type": "execute_result",
          "data": {
            "text/html": [
              "<div>\n",
              "<style scoped>\n",
              "    .dataframe tbody tr th:only-of-type {\n",
              "        vertical-align: middle;\n",
              "    }\n",
              "\n",
              "    .dataframe tbody tr th {\n",
              "        vertical-align: top;\n",
              "    }\n",
              "\n",
              "    .dataframe thead th {\n",
              "        text-align: right;\n",
              "    }\n",
              "</style>\n",
              "<table border=\"1\" class=\"dataframe\">\n",
              "  <thead>\n",
              "    <tr style=\"text-align: right;\">\n",
              "      <th></th>\n",
              "      <th>precision</th>\n",
              "      <th>recall</th>\n",
              "      <th>f1-score</th>\n",
              "      <th>support</th>\n",
              "    </tr>\n",
              "  </thead>\n",
              "  <tbody>\n",
              "    <tr>\n",
              "      <th>afr</th>\n",
              "      <td>0.996678</td>\n",
              "      <td>1.000000</td>\n",
              "      <td>0.998336</td>\n",
              "      <td>300.000000</td>\n",
              "    </tr>\n",
              "    <tr>\n",
              "      <th>eng</th>\n",
              "      <td>0.993377</td>\n",
              "      <td>1.000000</td>\n",
              "      <td>0.996678</td>\n",
              "      <td>300.000000</td>\n",
              "    </tr>\n",
              "    <tr>\n",
              "      <th>nbl</th>\n",
              "      <td>0.986799</td>\n",
              "      <td>0.996667</td>\n",
              "      <td>0.991708</td>\n",
              "      <td>300.000000</td>\n",
              "    </tr>\n",
              "    <tr>\n",
              "      <th>nso</th>\n",
              "      <td>0.996667</td>\n",
              "      <td>0.996667</td>\n",
              "      <td>0.996667</td>\n",
              "      <td>300.000000</td>\n",
              "    </tr>\n",
              "    <tr>\n",
              "      <th>sot</th>\n",
              "      <td>1.000000</td>\n",
              "      <td>0.996667</td>\n",
              "      <td>0.998331</td>\n",
              "      <td>300.000000</td>\n",
              "    </tr>\n",
              "    <tr>\n",
              "      <th>ssw</th>\n",
              "      <td>0.996667</td>\n",
              "      <td>0.996667</td>\n",
              "      <td>0.996667</td>\n",
              "      <td>300.000000</td>\n",
              "    </tr>\n",
              "    <tr>\n",
              "      <th>tsn</th>\n",
              "      <td>0.996667</td>\n",
              "      <td>0.996667</td>\n",
              "      <td>0.996667</td>\n",
              "      <td>300.000000</td>\n",
              "    </tr>\n",
              "    <tr>\n",
              "      <th>tso</th>\n",
              "      <td>1.000000</td>\n",
              "      <td>1.000000</td>\n",
              "      <td>1.000000</td>\n",
              "      <td>300.000000</td>\n",
              "    </tr>\n",
              "    <tr>\n",
              "      <th>ven</th>\n",
              "      <td>1.000000</td>\n",
              "      <td>1.000000</td>\n",
              "      <td>1.000000</td>\n",
              "      <td>300.000000</td>\n",
              "    </tr>\n",
              "    <tr>\n",
              "      <th>xho</th>\n",
              "      <td>0.993355</td>\n",
              "      <td>0.996667</td>\n",
              "      <td>0.995008</td>\n",
              "      <td>300.000000</td>\n",
              "    </tr>\n",
              "    <tr>\n",
              "      <th>zul</th>\n",
              "      <td>0.996599</td>\n",
              "      <td>0.976667</td>\n",
              "      <td>0.986532</td>\n",
              "      <td>300.000000</td>\n",
              "    </tr>\n",
              "    <tr>\n",
              "      <th>accuracy</th>\n",
              "      <td>0.996061</td>\n",
              "      <td>0.996061</td>\n",
              "      <td>0.996061</td>\n",
              "      <td>0.996061</td>\n",
              "    </tr>\n",
              "    <tr>\n",
              "      <th>macro avg</th>\n",
              "      <td>0.996073</td>\n",
              "      <td>0.996061</td>\n",
              "      <td>0.996054</td>\n",
              "      <td>3300.000000</td>\n",
              "    </tr>\n",
              "    <tr>\n",
              "      <th>weighted avg</th>\n",
              "      <td>0.996073</td>\n",
              "      <td>0.996061</td>\n",
              "      <td>0.996054</td>\n",
              "      <td>3300.000000</td>\n",
              "    </tr>\n",
              "  </tbody>\n",
              "</table>\n",
              "</div>"
            ],
            "text/plain": [
              "              precision    recall  f1-score      support\n",
              "afr            0.996678  1.000000  0.998336   300.000000\n",
              "eng            0.993377  1.000000  0.996678   300.000000\n",
              "nbl            0.986799  0.996667  0.991708   300.000000\n",
              "nso            0.996667  0.996667  0.996667   300.000000\n",
              "sot            1.000000  0.996667  0.998331   300.000000\n",
              "ssw            0.996667  0.996667  0.996667   300.000000\n",
              "tsn            0.996667  0.996667  0.996667   300.000000\n",
              "tso            1.000000  1.000000  1.000000   300.000000\n",
              "ven            1.000000  1.000000  1.000000   300.000000\n",
              "xho            0.993355  0.996667  0.995008   300.000000\n",
              "zul            0.996599  0.976667  0.986532   300.000000\n",
              "accuracy       0.996061  0.996061  0.996061     0.996061\n",
              "macro avg      0.996073  0.996061  0.996054  3300.000000\n",
              "weighted avg   0.996073  0.996061  0.996054  3300.000000"
            ]
          },
          "metadata": {
            "tags": []
          },
          "execution_count": 65
        }
      ]
    },
    {
      "cell_type": "markdown",
      "metadata": {
        "id": "-2Tv5oJYqpJh"
      },
      "source": [
        "## Linear SVC"
      ]
    },
    {
      "cell_type": "code",
      "metadata": {
        "id": "8qYbZ-DBzZkr"
      },
      "source": [
        "#second model Linear svc"
      ],
      "execution_count": 66,
      "outputs": []
    },
    {
      "cell_type": "code",
      "metadata": {
        "id": "CSt9iFH4tkop",
        "colab": {
          "base_uri": "https://localhost:8080/",
          "height": 483
        },
        "outputId": "71e656bf-962b-439e-9a2c-747a0f5015da"
      },
      "source": [
        "from sklearn.svm import LinearSVC\n",
        "modelstart = time.time() \n",
        "linsvc = LinearSVC()\n",
        "linsvc.fit(X_train, y_train)\n",
        "y_pred = linsvc.predict(X_val)\n",
        "linsvc_f1 = round(f1_score(y_val, y_pred, average='weighted'),2)\n",
        "print('Accuracy %s' % accuracy_score(y_pred, y_val))\n",
        "print(\"Model Runtime: %0.2f seconds\"%((time.time() - modelstart)))\n",
        "report = classification_report(y_val, y_pred, output_dict=True)\n",
        "results = pd.DataFrame(report).transpose()\n",
        "\n",
        "results"
      ],
      "execution_count": 67,
      "outputs": [
        {
          "output_type": "stream",
          "text": [
            "Accuracy 0.9966666666666667\n",
            "Model Runtime: 2.53 seconds\n"
          ],
          "name": "stdout"
        },
        {
          "output_type": "execute_result",
          "data": {
            "text/html": [
              "<div>\n",
              "<style scoped>\n",
              "    .dataframe tbody tr th:only-of-type {\n",
              "        vertical-align: middle;\n",
              "    }\n",
              "\n",
              "    .dataframe tbody tr th {\n",
              "        vertical-align: top;\n",
              "    }\n",
              "\n",
              "    .dataframe thead th {\n",
              "        text-align: right;\n",
              "    }\n",
              "</style>\n",
              "<table border=\"1\" class=\"dataframe\">\n",
              "  <thead>\n",
              "    <tr style=\"text-align: right;\">\n",
              "      <th></th>\n",
              "      <th>precision</th>\n",
              "      <th>recall</th>\n",
              "      <th>f1-score</th>\n",
              "      <th>support</th>\n",
              "    </tr>\n",
              "  </thead>\n",
              "  <tbody>\n",
              "    <tr>\n",
              "      <th>afr</th>\n",
              "      <td>0.996678</td>\n",
              "      <td>1.000000</td>\n",
              "      <td>0.998336</td>\n",
              "      <td>300.000000</td>\n",
              "    </tr>\n",
              "    <tr>\n",
              "      <th>eng</th>\n",
              "      <td>0.993377</td>\n",
              "      <td>1.000000</td>\n",
              "      <td>0.996678</td>\n",
              "      <td>300.000000</td>\n",
              "    </tr>\n",
              "    <tr>\n",
              "      <th>nbl</th>\n",
              "      <td>0.986799</td>\n",
              "      <td>0.996667</td>\n",
              "      <td>0.991708</td>\n",
              "      <td>300.000000</td>\n",
              "    </tr>\n",
              "    <tr>\n",
              "      <th>nso</th>\n",
              "      <td>0.996667</td>\n",
              "      <td>0.996667</td>\n",
              "      <td>0.996667</td>\n",
              "      <td>300.000000</td>\n",
              "    </tr>\n",
              "    <tr>\n",
              "      <th>sot</th>\n",
              "      <td>1.000000</td>\n",
              "      <td>0.996667</td>\n",
              "      <td>0.998331</td>\n",
              "      <td>300.000000</td>\n",
              "    </tr>\n",
              "    <tr>\n",
              "      <th>ssw</th>\n",
              "      <td>0.996667</td>\n",
              "      <td>0.996667</td>\n",
              "      <td>0.996667</td>\n",
              "      <td>300.000000</td>\n",
              "    </tr>\n",
              "    <tr>\n",
              "      <th>tsn</th>\n",
              "      <td>0.996667</td>\n",
              "      <td>0.996667</td>\n",
              "      <td>0.996667</td>\n",
              "      <td>300.000000</td>\n",
              "    </tr>\n",
              "    <tr>\n",
              "      <th>tso</th>\n",
              "      <td>1.000000</td>\n",
              "      <td>1.000000</td>\n",
              "      <td>1.000000</td>\n",
              "      <td>300.000000</td>\n",
              "    </tr>\n",
              "    <tr>\n",
              "      <th>ven</th>\n",
              "      <td>1.000000</td>\n",
              "      <td>1.000000</td>\n",
              "      <td>1.000000</td>\n",
              "      <td>300.000000</td>\n",
              "    </tr>\n",
              "    <tr>\n",
              "      <th>xho</th>\n",
              "      <td>1.000000</td>\n",
              "      <td>0.996667</td>\n",
              "      <td>0.998331</td>\n",
              "      <td>300.000000</td>\n",
              "    </tr>\n",
              "    <tr>\n",
              "      <th>zul</th>\n",
              "      <td>0.996622</td>\n",
              "      <td>0.983333</td>\n",
              "      <td>0.989933</td>\n",
              "      <td>300.000000</td>\n",
              "    </tr>\n",
              "    <tr>\n",
              "      <th>accuracy</th>\n",
              "      <td>0.996667</td>\n",
              "      <td>0.996667</td>\n",
              "      <td>0.996667</td>\n",
              "      <td>0.996667</td>\n",
              "    </tr>\n",
              "    <tr>\n",
              "      <th>macro avg</th>\n",
              "      <td>0.996680</td>\n",
              "      <td>0.996667</td>\n",
              "      <td>0.996665</td>\n",
              "      <td>3300.000000</td>\n",
              "    </tr>\n",
              "    <tr>\n",
              "      <th>weighted avg</th>\n",
              "      <td>0.996680</td>\n",
              "      <td>0.996667</td>\n",
              "      <td>0.996665</td>\n",
              "      <td>3300.000000</td>\n",
              "    </tr>\n",
              "  </tbody>\n",
              "</table>\n",
              "</div>"
            ],
            "text/plain": [
              "              precision    recall  f1-score      support\n",
              "afr            0.996678  1.000000  0.998336   300.000000\n",
              "eng            0.993377  1.000000  0.996678   300.000000\n",
              "nbl            0.986799  0.996667  0.991708   300.000000\n",
              "nso            0.996667  0.996667  0.996667   300.000000\n",
              "sot            1.000000  0.996667  0.998331   300.000000\n",
              "ssw            0.996667  0.996667  0.996667   300.000000\n",
              "tsn            0.996667  0.996667  0.996667   300.000000\n",
              "tso            1.000000  1.000000  1.000000   300.000000\n",
              "ven            1.000000  1.000000  1.000000   300.000000\n",
              "xho            1.000000  0.996667  0.998331   300.000000\n",
              "zul            0.996622  0.983333  0.989933   300.000000\n",
              "accuracy       0.996667  0.996667  0.996667     0.996667\n",
              "macro avg      0.996680  0.996667  0.996665  3300.000000\n",
              "weighted avg   0.996680  0.996667  0.996665  3300.000000"
            ]
          },
          "metadata": {
            "tags": []
          },
          "execution_count": 67
        }
      ]
    },
    {
      "cell_type": "markdown",
      "metadata": {
        "id": "DRN8boKUquC_"
      },
      "source": [
        "## Naive Bayse"
      ]
    },
    {
      "cell_type": "code",
      "metadata": {
        "id": "lbDvo6K7TZO_"
      },
      "source": [
        "#third model naive bayes"
      ],
      "execution_count": 68,
      "outputs": []
    },
    {
      "cell_type": "code",
      "metadata": {
        "id": "ELzdxAWYJBPv",
        "colab": {
          "base_uri": "https://localhost:8080/",
          "height": 483
        },
        "outputId": "f7ad4f5b-8eb4-4704-fbcd-9f0871ba3a9c"
      },
      "source": [
        "\n",
        "modelstart = time.time()\n",
        "nb_model = MultinomialNB(alpha=1.0, fit_prior=True, class_prior=None)\n",
        "\n",
        "#train model\n",
        "nb_model.fit(X_train, y_train)\n",
        "\n",
        "#make predictions \n",
        "y_pred = nb_model.predict(X_val)\n",
        "nb_model_f1 = round(f1_score(y_val, y_pred, average='weighted'),2)\n",
        "\n",
        "#print accuracy score\n",
        "print('Accuracy %s' % accuracy_score(y_pred, y_val))\n",
        "print(\"Model Runtime: %0.2f seconds\"%((time.time() - modelstart)))\n",
        "\n",
        "report = classification_report(y_val, y_pred, output_dict=True)\n",
        "results = pd.DataFrame(report).transpose()\n",
        "results"
      ],
      "execution_count": 71,
      "outputs": [
        {
          "output_type": "stream",
          "text": [
            "Accuracy 0.9990909090909091\n",
            "Model Runtime: 0.27 seconds\n"
          ],
          "name": "stdout"
        },
        {
          "output_type": "execute_result",
          "data": {
            "text/html": [
              "<div>\n",
              "<style scoped>\n",
              "    .dataframe tbody tr th:only-of-type {\n",
              "        vertical-align: middle;\n",
              "    }\n",
              "\n",
              "    .dataframe tbody tr th {\n",
              "        vertical-align: top;\n",
              "    }\n",
              "\n",
              "    .dataframe thead th {\n",
              "        text-align: right;\n",
              "    }\n",
              "</style>\n",
              "<table border=\"1\" class=\"dataframe\">\n",
              "  <thead>\n",
              "    <tr style=\"text-align: right;\">\n",
              "      <th></th>\n",
              "      <th>precision</th>\n",
              "      <th>recall</th>\n",
              "      <th>f1-score</th>\n",
              "      <th>support</th>\n",
              "    </tr>\n",
              "  </thead>\n",
              "  <tbody>\n",
              "    <tr>\n",
              "      <th>afr</th>\n",
              "      <td>0.996678</td>\n",
              "      <td>1.000000</td>\n",
              "      <td>0.998336</td>\n",
              "      <td>300.000000</td>\n",
              "    </tr>\n",
              "    <tr>\n",
              "      <th>eng</th>\n",
              "      <td>0.993377</td>\n",
              "      <td>1.000000</td>\n",
              "      <td>0.996678</td>\n",
              "      <td>300.000000</td>\n",
              "    </tr>\n",
              "    <tr>\n",
              "      <th>nbl</th>\n",
              "      <td>1.000000</td>\n",
              "      <td>1.000000</td>\n",
              "      <td>1.000000</td>\n",
              "      <td>300.000000</td>\n",
              "    </tr>\n",
              "    <tr>\n",
              "      <th>nso</th>\n",
              "      <td>1.000000</td>\n",
              "      <td>1.000000</td>\n",
              "      <td>1.000000</td>\n",
              "      <td>300.000000</td>\n",
              "    </tr>\n",
              "    <tr>\n",
              "      <th>sot</th>\n",
              "      <td>1.000000</td>\n",
              "      <td>1.000000</td>\n",
              "      <td>1.000000</td>\n",
              "      <td>300.000000</td>\n",
              "    </tr>\n",
              "    <tr>\n",
              "      <th>ssw</th>\n",
              "      <td>1.000000</td>\n",
              "      <td>1.000000</td>\n",
              "      <td>1.000000</td>\n",
              "      <td>300.000000</td>\n",
              "    </tr>\n",
              "    <tr>\n",
              "      <th>tsn</th>\n",
              "      <td>1.000000</td>\n",
              "      <td>0.996667</td>\n",
              "      <td>0.998331</td>\n",
              "      <td>300.000000</td>\n",
              "    </tr>\n",
              "    <tr>\n",
              "      <th>tso</th>\n",
              "      <td>1.000000</td>\n",
              "      <td>1.000000</td>\n",
              "      <td>1.000000</td>\n",
              "      <td>300.000000</td>\n",
              "    </tr>\n",
              "    <tr>\n",
              "      <th>ven</th>\n",
              "      <td>1.000000</td>\n",
              "      <td>1.000000</td>\n",
              "      <td>1.000000</td>\n",
              "      <td>300.000000</td>\n",
              "    </tr>\n",
              "    <tr>\n",
              "      <th>xho</th>\n",
              "      <td>1.000000</td>\n",
              "      <td>0.996667</td>\n",
              "      <td>0.998331</td>\n",
              "      <td>300.000000</td>\n",
              "    </tr>\n",
              "    <tr>\n",
              "      <th>zul</th>\n",
              "      <td>1.000000</td>\n",
              "      <td>0.996667</td>\n",
              "      <td>0.998331</td>\n",
              "      <td>300.000000</td>\n",
              "    </tr>\n",
              "    <tr>\n",
              "      <th>accuracy</th>\n",
              "      <td>0.999091</td>\n",
              "      <td>0.999091</td>\n",
              "      <td>0.999091</td>\n",
              "      <td>0.999091</td>\n",
              "    </tr>\n",
              "    <tr>\n",
              "      <th>macro avg</th>\n",
              "      <td>0.999096</td>\n",
              "      <td>0.999091</td>\n",
              "      <td>0.999091</td>\n",
              "      <td>3300.000000</td>\n",
              "    </tr>\n",
              "    <tr>\n",
              "      <th>weighted avg</th>\n",
              "      <td>0.999096</td>\n",
              "      <td>0.999091</td>\n",
              "      <td>0.999091</td>\n",
              "      <td>3300.000000</td>\n",
              "    </tr>\n",
              "  </tbody>\n",
              "</table>\n",
              "</div>"
            ],
            "text/plain": [
              "              precision    recall  f1-score      support\n",
              "afr            0.996678  1.000000  0.998336   300.000000\n",
              "eng            0.993377  1.000000  0.996678   300.000000\n",
              "nbl            1.000000  1.000000  1.000000   300.000000\n",
              "nso            1.000000  1.000000  1.000000   300.000000\n",
              "sot            1.000000  1.000000  1.000000   300.000000\n",
              "ssw            1.000000  1.000000  1.000000   300.000000\n",
              "tsn            1.000000  0.996667  0.998331   300.000000\n",
              "tso            1.000000  1.000000  1.000000   300.000000\n",
              "ven            1.000000  1.000000  1.000000   300.000000\n",
              "xho            1.000000  0.996667  0.998331   300.000000\n",
              "zul            1.000000  0.996667  0.998331   300.000000\n",
              "accuracy       0.999091  0.999091  0.999091     0.999091\n",
              "macro avg      0.999096  0.999091  0.999091  3300.000000\n",
              "weighted avg   0.999096  0.999091  0.999091  3300.000000"
            ]
          },
          "metadata": {
            "tags": []
          },
          "execution_count": 71
        }
      ]
    },
    {
      "cell_type": "markdown",
      "metadata": {
        "id": "0c2KoOgzqycn"
      },
      "source": [
        "## Submission"
      ]
    },
    {
      "cell_type": "code",
      "metadata": {
        "id": "9veMA5Z0DoD0"
      },
      "source": [
        "test_nb = test['text']\n",
        "test_vect = vectorizer.transform(test_nb)\n",
        "# Predict the sentiment using the test data\n",
        "y_pred =nb_model.predict(test_vect)\n",
        "# Assign a new column on the test data by using the predicted sentiment from the tweets from test data\n",
        "test['lang_id'] = y_pred\n",
        "# Look into the data that will be submitted on Kaggle as csv\n",
        "test[['index','lang_id']].head()\n",
        "# save the csv file and submit it. \n",
        "test[['index','lang_id']].to_csv('nb_test_submission.csv', index=False)"
      ],
      "execution_count": 70,
      "outputs": []
    },
    {
      "cell_type": "code",
      "metadata": {
        "id": "adv56beiWyyB"
      },
      "source": [
        ""
      ],
      "execution_count": 70,
      "outputs": []
    }
  ]
}